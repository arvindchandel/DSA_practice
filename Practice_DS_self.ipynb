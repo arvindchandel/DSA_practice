{
 "cells": [
  {
   "cell_type": "code",
   "execution_count": 1,
   "metadata": {},
   "outputs": [
    {
     "name": "stdout",
     "output_type": "stream",
     "text": [
      "4\n"
     ]
    }
   ],
   "source": [
    "import heapq\n",
    "\n",
    "# create Klargest classs\n",
    "\n",
    "class Klargest:\n",
    "    def __init__(self, nums, k):\n",
    "        self.nums = nums\n",
    "        self.k = k\n",
    "        self.min_heap = []\n",
    "        for num in nums:\n",
    "            self.add(num)\n",
    "\n",
    "    \n",
    "    def add(self,val):\n",
    "        if len(self.min_heap)<self.k:\n",
    "            heapq.heappush(self.min_heap, val)\n",
    "        else:\n",
    "            if self.min_heap[0]<val:\n",
    "                heapq.heappop(self.min_heap)\n",
    "                heapq.heappush(self.min_heap,val)\n",
    "        return self.min_heap[0]\n",
    "\n",
    "# define the nums and k\n",
    "nums = [4,5,8,2]\n",
    "k=3\n",
    "klargest = Klargest(nums,k)\n",
    "print(klargest.add(3))"
   ]
  },
  {
   "cell_type": "code",
   "execution_count": 6,
   "metadata": {},
   "outputs": [
    {
     "name": "stdout",
     "output_type": "stream",
     "text": [
      "[1, 2, 3, 4, 5, 6, 7, 8, 9]\n",
      "value i is: 2\n",
      "i am here for: 2\n",
      "value i is: 4\n",
      "i am here for: 4\n",
      "value i is: 5\n",
      "i am here for: 5\n",
      "value i is: 7\n",
      "i am here for: 7\n",
      "value i is: 9\n",
      "i am here for: 9\n",
      "value i is: 1\n",
      "i am here for: 1\n",
      "value i is: 3\n",
      "i am here for: 3\n",
      "value i is: 6\n",
      "i am here for: 6\n",
      "done\n"
     ]
    }
   ],
   "source": [
    "l1 = [2,4,5,7,9,1,3,6]\n",
    "l2 = [i for i in range(1,10)]\n",
    "print(l2)\n",
    "for i in l1:\n",
    "    print('value i is:', i)\n",
    "    if i in l2:\n",
    "        print('i am here for:', i)\n",
    "    else:\n",
    "        print(i)\n",
    "print('done')"
   ]
  },
  {
   "cell_type": "code",
   "execution_count": 7,
   "metadata": {},
   "outputs": [
    {
     "name": "stdout",
     "output_type": "stream",
     "text": [
      "the accuracy of model is 1.0\n"
     ]
    }
   ],
   "source": [
    "# implement linear regression..\n",
    "\n",
    "# y = a*X + b\n",
    "\n",
    "import numpy as np\n",
    "from sklearn.model_selection import train_test_split\n",
    "from sklearn.linear_model import LogisticRegression\n",
    "from sklearn.metrics import accuracy_score\n",
    "\n",
    "X = np.array([[1.0,2.0],[2.0,3.0],[3.0,4.0],[3.5,4.5],[5.5,6.5],[7,8.5]])\n",
    "y=np.array([1, 1, 1, 0, 0, 0])\n",
    "\n",
    "x_train, x_test,y_train, y_test = train_test_split(X,y,test_size=0.2,random_state=42)\n",
    "\n",
    "# create the model\n",
    "\n",
    "log_model = LogisticRegression()\n",
    "\n",
    "log_model.fit(x_train,y_train)\n",
    "\n",
    "y_pred = log_model.predict(x_test)\n",
    "\n",
    "# check the accuracy of model\n",
    "\n",
    "acc = accuracy_score(y_test,y_pred)\n",
    "\n",
    "print(f'the accuracy of model is {acc}')"
   ]
  },
  {
   "cell_type": "code",
   "execution_count": 1,
   "metadata": {},
   "outputs": [
    {
     "name": "stdout",
     "output_type": "stream",
     "text": [
      "length is 5\n"
     ]
    }
   ],
   "source": [
    "def lon_substring(s):\n",
    "    l, r = 0,0\n",
    "    max_length = 0\n",
    "    char_set = set()\n",
    "\n",
    "    while r < len(s1):\n",
    "        if s[r] not in char_set:\n",
    "            char_set.add(s[r])\n",
    "            r +=1\n",
    "            max_length = max(max_length, r-l)\n",
    "        else:\n",
    "            char_set.remove(s[l])\n",
    "            l +=1\n",
    "    return max_length\n",
    "\n",
    "s1 = 'bacabdeaa'\n",
    "l = lon_substring(s1)\n",
    "print(f'length is {l}')"
   ]
  }
 ],
 "metadata": {
  "kernelspec": {
   "display_name": "dev",
   "language": "python",
   "name": "python3"
  },
  "language_info": {
   "codemirror_mode": {
    "name": "ipython",
    "version": 3
   },
   "file_extension": ".py",
   "mimetype": "text/x-python",
   "name": "python",
   "nbconvert_exporter": "python",
   "pygments_lexer": "ipython3",
   "version": "3.10.9"
  }
 },
 "nbformat": 4,
 "nbformat_minor": 2
}
